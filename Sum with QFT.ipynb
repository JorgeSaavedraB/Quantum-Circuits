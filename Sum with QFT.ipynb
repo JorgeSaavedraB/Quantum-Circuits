{
 "cells": [
  {
   "cell_type": "code",
   "execution_count": 1,
   "id": "ae156102-4570-4153-8a76-ce936ac61f67",
   "metadata": {},
   "outputs": [],
   "source": [
    "import qiskit\n",
    "import numpy as np\n",
    "from qiskit import QuantumCircuit, transpile, assemble\n",
    "from qiskit.visualization import plot_histogram, plot_bloch_vector, plot_bloch_multivector\n",
    "from qiskit.quantum_info import Statevector\n",
    "from qiskit.providers.basic_provider import BasicSimulator"
   ]
  },
  {
   "cell_type": "code",
   "execution_count": 2,
   "id": "efdca539-509e-4962-aad5-18e0510f058d",
   "metadata": {},
   "outputs": [],
   "source": [
    "#Quantum Fourier Transform\n",
    "# q_0 represents the inital qubit of the QFT\n",
    "def QFT(q_circuit, n, q_0):\n",
    "    q_circuit.barrier()\n",
    "    for k in range(q_0, q_0 + n):\n",
    "        q_circuit.h(k)\n",
    "        for i in range(k + 1, q_0 + n):\n",
    "            q_circuit.cp(np.pi / (2 ** (i - k)), k, i)\n",
    "        q_circuit.barrier()\n",
    "        \n",
    "    #Swap of all of qubits\n",
    "    for l in range(n//2):\n",
    "        q_circuit.swap(q_0 + l, n - 1 - l + q_0)\n",
    "    q_circuit.barrier()"
   ]
  },
  {
   "cell_type": "code",
   "execution_count": 3,
   "id": "9e2086c4-2840-4024-aa93-5bad5d7131aa",
   "metadata": {},
   "outputs": [],
   "source": [
    "#Quantum Fourier Transform Inverse\n",
    "# q_0 represents the inital qubit of the QFT inverse\n",
    "def QFT_I(q_circuit, n, q_0):\n",
    "    #Swap of all of qubits\n",
    "    for l in range(n//2):\n",
    "        q_circuit.swap(l + q_0, n - 1 - l + q_0)\n",
    "    q_circuit.barrier()\n",
    "    \n",
    "    for k in range(n):\n",
    "        for i in range(k):\n",
    "            q_circuit.cp(- np.pi / (2 ** (k - i)), n - k - 1 + q_0, n - i - 1 + q_0)\n",
    "        q_circuit.h(n + q_0 - k - 1)\n",
    "        q_circuit.barrier()"
   ]
  },
  {
   "cell_type": "code",
   "execution_count": 4,
   "id": "25b32739-5bcf-4137-be5b-0d0b2557412c",
   "metadata": {},
   "outputs": [],
   "source": [
    "def sum_QFT(a, b, n):\n",
    "    qc = QuantumCircuit(2 * n, n)\n",
    "    \n",
    "    # Inicialization of the state |a>\n",
    "    for i in range(n):\n",
    "        if np.binary_repr(a, n)[i] == '1':\n",
    "            qc.x(i)\n",
    "\n",
    "    # Inicialization of the state |b>\n",
    "    for i in range(n):\n",
    "        if np.binary_repr(b, n)[i] == '1':\n",
    "            qc.x(i + n)\n",
    "    \n",
    "    QFT(qc, n, n) # Quantum Fourier Transform\n",
    "\n",
    "    # Sum of the qubits in the Fourier Transform representation of the qubit |b>\n",
    "    for k in range(n):\n",
    "        for l in range(n):\n",
    "            qc.cp(2 ** (n - 1 - k) * np.pi / 2 ** l, k, l + n)\n",
    "        qc.barrier()\n",
    "    \n",
    "    QFT_I(qc, n, n) # Quantum Fourier Transform Inverse\n",
    "    \n",
    "    # Measure the las n qubits\n",
    "    for k in range(n):\n",
    "        qc.measure(k + n, n - 1- k)\n",
    "        \n",
    "    qc.draw('mpl')\n",
    "    \n",
    "    simulator_basic = BasicSimulator()\n",
    "    \n",
    "    compilado = transpile(qc, simulator_basic)\n",
    "    \n",
    "    job = simulator_basic.run(compilado, shots =  1)\n",
    "    \n",
    "    # Excecute the circuit\n",
    "    result = job.result()\n",
    "\n",
    "    # Return a + b\n",
    "    return int(max(result.get_counts()), 2)"
   ]
  },
  {
   "cell_type": "code",
   "execution_count": 5,
   "id": "b8b879dc-9335-49fd-908a-4d6ef8c632d7",
   "metadata": {},
   "outputs": [
    {
     "name": "stdout",
     "output_type": "stream",
     "text": [
      "2 + 3 = 5\n"
     ]
    }
   ],
   "source": [
    "a = 2\n",
    "b = 3\n",
    "# n of qubits to represent a + b\n",
    "n = 4\n",
    "\n",
    "# Print the result of the sum of a and b\n",
    "print(f'{a} + {b} = {sum_QFT(a, b, n)}')"
   ]
  }
 ],
 "metadata": {
  "kernelspec": {
   "display_name": "Python 3 (ipykernel)",
   "language": "python",
   "name": "python3"
  },
  "language_info": {
   "codemirror_mode": {
    "name": "ipython",
    "version": 3
   },
   "file_extension": ".py",
   "mimetype": "text/x-python",
   "name": "python",
   "nbconvert_exporter": "python",
   "pygments_lexer": "ipython3",
   "version": "3.12.5"
  }
 },
 "nbformat": 4,
 "nbformat_minor": 5
}
